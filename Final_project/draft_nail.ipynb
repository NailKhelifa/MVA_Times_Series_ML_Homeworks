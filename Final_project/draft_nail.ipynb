{
 "cells": [
  {
   "cell_type": "code",
   "execution_count": 3,
   "metadata": {},
   "outputs": [],
   "source": [
    "import numpy as np\n",
    "import pandas as pd \n",
    "import matplotlib.pyplot as plt \n",
    "from sklearn.model_selection import train_test_split\n",
    "from sklearn.preprocessing import LabelEncoder, StandardScaler\n",
    "from sklearn.neighbors import KNeighborsClassifier\n",
    "from sklearn.tree import DecisionTreeClassifier\n",
    "from sklearn.metrics import accuracy_score, make_scorer, f1_score\n",
    "from collections import Counter\n",
    "import scipy.stats as stats # for the breakpoints in SAX\n",
    "from scipy.stats import norm\n",
    "from Symbol import SYMBOLS\n",
    "from distances import MINDIST\n",
    "from SAX_transf import SAX_transform\n",
    "import warnings \n",
    "from dtw import dtw\n",
    "from sklearn.model_selection import GridSearchCV\n",
    "from tslearn.neighbors import KNeighborsTimeSeriesClassifier\n",
    "from tslearn.utils import to_time_series_dataset\n",
    "from sklearn.metrics import confusion_matrix\n",
    "from sklearn.metrics import precision_recall_curve, average_precision_score\n",
    "from sklearn.metrics import roc_curve, auc\n",
    "\n",
    "\n",
    "warnings.filterwarnings('ignore')\n",
    "import os\n",
    "import aeon\n",
    "from aeon.datasets import load_classification"
   ]
  },
  {
   "cell_type": "code",
   "execution_count": 2,
   "metadata": {},
   "outputs": [],
   "source": [
    "train_path = os.path.join(os.getcwd(), \"datasets/classification/ECG200/ECG200_TRAIN.ts\")\n",
    "test_path = os.path.join(os.getcwd(), \"datasets/classification/ECG200/ECG200_TEST.ts\")\n",
    "\n",
    "X_train = pd.read_csv(train_path, \n",
    "                      sep=\",\", \n",
    "                      header=None\n",
    "                      )\n",
    "\n",
    "X_train.columns = list(X_train.columns[:-1]) + ['label']\n",
    "x_train, y_train = X_train.iloc[:, :-1], X_train[\"label\"]\n",
    "\n",
    "y_train = y_train.replace(-1, 0)\n",
    "\n",
    "X_test = pd.read_csv(test_path, \n",
    "                      sep=\",\", \n",
    "                      header=None\n",
    "                      )\n",
    "\n",
    "X_test.columns = list(X_test.columns[:-1]) + ['label']\n",
    "x_test, y_test = X_test.iloc[:, :-1], X_test[\"label\"]\n",
    "\n",
    "y_test = y_test.replace(-1, 0)"
   ]
  },
  {
   "cell_type": "code",
   "execution_count": 5,
   "metadata": {},
   "outputs": [],
   "source": [
    "ts_1 = x_train.iloc[0,:] # first time series, length 96\n",
    "num_seg = 10\n",
    "alphabet_size = 5\n",
    "sax = SAX_transform(ts_1, num_seg, alphabet_size)\n"
   ]
  },
  {
   "cell_type": "code",
   "execution_count": 18,
   "metadata": {},
   "outputs": [
    {
     "data": {
      "text/plain": [
       "[(0, -0.35035721), (7, -1.044091), (5, -1.1539497), (8, -1.2020312)]"
      ]
     },
     "execution_count": 18,
     "metadata": {},
     "output_type": "execute_result"
    }
   ],
   "source": [
    "l = sax.segment_time_series(ts_1)\n",
    "\n",
    "# sax.tsax_paa(ts_1)\n",
    "\n",
    "find_key_points(l[2])"
   ]
  },
  {
   "cell_type": "code",
   "execution_count": 11,
   "metadata": {},
   "outputs": [],
   "source": [
    "def find_key_points(time_series):\n",
    "    \"\"\"\n",
    "    Détecte les points clés (start, MP, MD, end) dans une série temporelle.\n",
    "    - Start : Premier point.\n",
    "    - End : Dernier point.\n",
    "    - MP : Point avec la plus grande distance verticale au-dessus de la ligne de tendance.\n",
    "    - MD : Point avec la plus grande distance verticale en dessous de la ligne de tendance.\n",
    "\n",
    "    Arguments :\n",
    "        time_series : list of float, la série temporelle (les valeurs y au fil du temps).\n",
    "\n",
    "    Retourne :\n",
    "        list : Une liste de quatre points clés sous la forme [(x_start, y_start), (x_MP, y_MP), (x_MD, y_MD), (x_end, y_end)].\n",
    "    \"\"\"\n",
    "    # Étape 1 : Convertir la série temporelle en points (x, y)\n",
    "    points = [(i, y) for i, y in enumerate(time_series)]  # i = temps, y = valeur\n",
    "    \n",
    "    # Étape 2 : Initialiser les points start et end\n",
    "    start = points[0]\n",
    "    end = points[-1]\n",
    "    \n",
    "    # Étape 3 : Calculer la ligne de tendance entre start et end\n",
    "    def vertical_distance(p, start, end):\n",
    "        \"\"\"\n",
    "        Calcule la distance verticale (VD) d'un point p à la ligne de tendance entre start et end.\n",
    "        \"\"\"\n",
    "        x1, y1 = start\n",
    "        x2, y2 = end\n",
    "        x, y = p\n",
    "\n",
    "        # Équation de la droite (ligne de tendance)\n",
    "        if x2 - x1 == 0:  # Éviter la division par zéro pour une ligne verticale\n",
    "            return abs(x - x1)\n",
    "        \n",
    "        slope = (y2 - y1) / (x2 - x1)\n",
    "        intercept = y1 - slope * x1\n",
    "        y_trend = slope * x + intercept  # Valeur prédite par la ligne de tendance\n",
    "        \n",
    "        return y - y_trend  # Distance verticale (positive si au-dessus, négative si en dessous)\n",
    "    \n",
    "    # Étape 4 : Rechercher MP (Maximum Peak) et MD (Maximum Dip)\n",
    "    max_positive_distance = float('-inf')\n",
    "    max_negative_distance = float('inf')\n",
    "    MP = None\n",
    "    MD = None\n",
    "\n",
    "    for point in points[1:-1]:  # Ignorer start et end\n",
    "        distance = vertical_distance(point, start, end)\n",
    "        if distance > max_positive_distance:\n",
    "            max_positive_distance = distance\n",
    "            MP = point\n",
    "        if distance < max_negative_distance:\n",
    "            max_negative_distance = distance\n",
    "            MD = point\n",
    "\n",
    "    # Étape 5 : Gérer les cas où MP ou MD n'existent pas (grâce à une initialisation par défaut)\n",
    "    if MP is None:\n",
    "        MP = start  # Par défaut, MP est le point de départ si aucun pic n'existe\n",
    "    if MD is None:\n",
    "        MD = start  # Par défaut, MD est le point de départ si aucune dépression n'existe\n",
    "\n",
    "    # Étape 6 : Retourner les quatre points clés\n",
    "    return [start, MP, MD, end]"
   ]
  }
 ],
 "metadata": {
  "kernelspec": {
   "display_name": "Python (nail_env)",
   "language": "python",
   "name": "nail_env"
  },
  "language_info": {
   "codemirror_mode": {
    "name": "ipython",
    "version": 3
   },
   "file_extension": ".py",
   "mimetype": "text/x-python",
   "name": "python",
   "nbconvert_exporter": "python",
   "pygments_lexer": "ipython3",
   "version": "3.9.10"
  }
 },
 "nbformat": 4,
 "nbformat_minor": 2
}
