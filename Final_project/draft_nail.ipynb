{
 "cells": [
  {
   "cell_type": "code",
   "execution_count": 1,
   "metadata": {},
   "outputs": [
    {
     "name": "stdout",
     "output_type": "stream",
     "text": [
      "Importing the dtw module. When using in academic works please cite:\n",
      "  T. Giorgino. Computing and Visualizing Dynamic Time Warping Alignments in R: The dtw Package.\n",
      "  J. Stat. Soft., doi:10.18637/jss.v031.i07.\n",
      "\n"
     ]
    }
   ],
   "source": [
    "import numpy as np\n",
    "import pandas as pd \n",
    "import matplotlib.pyplot as plt \n",
    "from sklearn.model_selection import train_test_split\n",
    "from sklearn.preprocessing import LabelEncoder, StandardScaler\n",
    "from sklearn.neighbors import KNeighborsClassifier\n",
    "from sklearn.tree import DecisionTreeClassifier\n",
    "from sklearn.metrics import accuracy_score, make_scorer, f1_score\n",
    "from collections import Counter\n",
    "import scipy.stats as stats # for the breakpoints in SAX\n",
    "from scipy.stats import norm\n",
    "from Symbol import SYMBOLS\n",
    "from distances import MINDIST\n",
    "from SAX_transf import SAX_transform\n",
    "import warnings \n",
    "from dtw import dtw\n",
    "from sklearn.model_selection import GridSearchCV\n",
    "from tslearn.neighbors import KNeighborsTimeSeriesClassifier\n",
    "from tslearn.utils import to_time_series_dataset\n",
    "from sklearn.metrics import confusion_matrix\n",
    "from sklearn.metrics import precision_recall_curve, average_precision_score\n",
    "from sklearn.metrics import roc_curve, auc\n",
    "\n",
    "\n",
    "warnings.filterwarnings('ignore')\n",
    "import os\n",
    "import aeon\n",
    "from aeon.datasets import load_classification"
   ]
  },
  {
   "cell_type": "code",
   "execution_count": 2,
   "metadata": {},
   "outputs": [],
   "source": [
    "train_path = os.path.join(os.getcwd(), \"datasets/classification/ECG200/ECG200_TRAIN.ts\")\n",
    "test_path = os.path.join(os.getcwd(), \"datasets/classification/ECG200/ECG200_TEST.ts\")\n",
    "\n",
    "X_train = pd.read_csv(train_path, \n",
    "                      sep=\",\", \n",
    "                      header=None\n",
    "                      )\n",
    "\n",
    "X_train.columns = list(X_train.columns[:-1]) + ['label']\n",
    "x_train, y_train = X_train.iloc[:, :-1], X_train[\"label\"]\n",
    "\n",
    "y_train = y_train.replace(-1, 0)\n",
    "\n",
    "X_test = pd.read_csv(test_path, \n",
    "                      sep=\",\", \n",
    "                      header=None\n",
    "                      )\n",
    "\n",
    "X_test.columns = list(X_test.columns[:-1]) + ['label']\n",
    "x_test, y_test = X_test.iloc[:, :-1], X_test[\"label\"]\n",
    "\n",
    "y_test = y_test.replace(-1, 0)"
   ]
  },
  {
   "cell_type": "code",
   "execution_count": 3,
   "metadata": {},
   "outputs": [],
   "source": [
    "tsax = SYMBOLS(X_train=X_train,\n",
    "                X_test=X_test,\n",
    "                method=\"TSAX\",\n",
    "                k=1\n",
    "                )"
   ]
  },
  {
   "cell_type": "code",
   "execution_count": 5,
   "metadata": {},
   "outputs": [
    {
     "ename": "IndexError",
     "evalue": "string index out of range",
     "output_type": "error",
     "traceback": [
      "\u001b[0;31m---------------------------------------------------------------------------\u001b[0m",
      "\u001b[0;31mIndexError\u001b[0m                                Traceback (most recent call last)",
      "Cell \u001b[0;32mIn[5], line 1\u001b[0m\n\u001b[0;32m----> 1\u001b[0m \u001b[43mtsax\u001b[49m\u001b[38;5;241;43m.\u001b[39;49m\u001b[43m_predict\u001b[49m\u001b[43m(\u001b[49m\u001b[43m)\u001b[49m\n",
      "File \u001b[0;32m~/MVA_Times_Series_ML_Homeworks-1/Final_project/Symbol.py:152\u001b[0m, in \u001b[0;36mSYMBOLS._predict\u001b[0;34m(self)\u001b[0m\n\u001b[1;32m    149\u001b[0m \u001b[38;5;66;03m# make a prediction based on k-nn for each symbolized series in the test dataset\u001b[39;00m\n\u001b[1;32m    150\u001b[0m \u001b[38;5;28;01mfor\u001b[39;00m j \u001b[38;5;129;01min\u001b[39;00m \u001b[38;5;28mrange\u001b[39m(\u001b[38;5;28mself\u001b[39m\u001b[38;5;241m.\u001b[39mnum_test_samples):\n\u001b[1;32m    151\u001b[0m     \u001b[38;5;66;03m# Calcul des distances entre x_test et tous les points d'entraînement\u001b[39;00m\n\u001b[0;32m--> 152\u001b[0m     distances \u001b[38;5;241m=\u001b[39m [\u001b[38;5;28mself\u001b[39m\u001b[38;5;241m.\u001b[39mdist(\u001b[38;5;28mself\u001b[39m\u001b[38;5;241m.\u001b[39msymbolized_x_test\u001b[38;5;241m.\u001b[39miloc[j][\u001b[38;5;241m0\u001b[39m], \u001b[38;5;28mself\u001b[39m\u001b[38;5;241m.\u001b[39msymbolized_x_train\u001b[38;5;241m.\u001b[39miloc[i][\u001b[38;5;241m0\u001b[39m], \u001b[38;5;28mself\u001b[39m\u001b[38;5;241m.\u001b[39mtrain_ts_length) \u001b[38;5;28;01mfor\u001b[39;00m i \u001b[38;5;129;01min\u001b[39;00m \u001b[38;5;28mrange\u001b[39m(\u001b[38;5;28mself\u001b[39m\u001b[38;5;241m.\u001b[39mnum_train_samples)]\n\u001b[1;32m    154\u001b[0m     \u001b[38;5;66;03m# Trier les distances et obtenir les indices des k plus proches voisins\u001b[39;00m\n\u001b[1;32m    155\u001b[0m     k_indices \u001b[38;5;241m=\u001b[39m np\u001b[38;5;241m.\u001b[39margsort(distances)[:\u001b[38;5;28mself\u001b[39m\u001b[38;5;241m.\u001b[39mk]\n",
      "File \u001b[0;32m~/MVA_Times_Series_ML_Homeworks-1/Final_project/Symbol.py:152\u001b[0m, in \u001b[0;36m<listcomp>\u001b[0;34m(.0)\u001b[0m\n\u001b[1;32m    149\u001b[0m \u001b[38;5;66;03m# make a prediction based on k-nn for each symbolized series in the test dataset\u001b[39;00m\n\u001b[1;32m    150\u001b[0m \u001b[38;5;28;01mfor\u001b[39;00m j \u001b[38;5;129;01min\u001b[39;00m \u001b[38;5;28mrange\u001b[39m(\u001b[38;5;28mself\u001b[39m\u001b[38;5;241m.\u001b[39mnum_test_samples):\n\u001b[1;32m    151\u001b[0m     \u001b[38;5;66;03m# Calcul des distances entre x_test et tous les points d'entraînement\u001b[39;00m\n\u001b[0;32m--> 152\u001b[0m     distances \u001b[38;5;241m=\u001b[39m [\u001b[38;5;28;43mself\u001b[39;49m\u001b[38;5;241;43m.\u001b[39;49m\u001b[43mdist\u001b[49m\u001b[43m(\u001b[49m\u001b[38;5;28;43mself\u001b[39;49m\u001b[38;5;241;43m.\u001b[39;49m\u001b[43msymbolized_x_test\u001b[49m\u001b[38;5;241;43m.\u001b[39;49m\u001b[43miloc\u001b[49m\u001b[43m[\u001b[49m\u001b[43mj\u001b[49m\u001b[43m]\u001b[49m\u001b[43m[\u001b[49m\u001b[38;5;241;43m0\u001b[39;49m\u001b[43m]\u001b[49m\u001b[43m,\u001b[49m\u001b[43m \u001b[49m\u001b[38;5;28;43mself\u001b[39;49m\u001b[38;5;241;43m.\u001b[39;49m\u001b[43msymbolized_x_train\u001b[49m\u001b[38;5;241;43m.\u001b[39;49m\u001b[43miloc\u001b[49m\u001b[43m[\u001b[49m\u001b[43mi\u001b[49m\u001b[43m]\u001b[49m\u001b[43m[\u001b[49m\u001b[38;5;241;43m0\u001b[39;49m\u001b[43m]\u001b[49m\u001b[43m,\u001b[49m\u001b[43m \u001b[49m\u001b[38;5;28;43mself\u001b[39;49m\u001b[38;5;241;43m.\u001b[39;49m\u001b[43mtrain_ts_length\u001b[49m\u001b[43m)\u001b[49m \u001b[38;5;28;01mfor\u001b[39;00m i \u001b[38;5;129;01min\u001b[39;00m \u001b[38;5;28mrange\u001b[39m(\u001b[38;5;28mself\u001b[39m\u001b[38;5;241m.\u001b[39mnum_train_samples)]\n\u001b[1;32m    154\u001b[0m     \u001b[38;5;66;03m# Trier les distances et obtenir les indices des k plus proches voisins\u001b[39;00m\n\u001b[1;32m    155\u001b[0m     k_indices \u001b[38;5;241m=\u001b[39m np\u001b[38;5;241m.\u001b[39margsort(distances)[:\u001b[38;5;28mself\u001b[39m\u001b[38;5;241m.\u001b[39mk]\n",
      "File \u001b[0;32m~/MVA_Times_Series_ML_Homeworks-1/Final_project/Symbol.py:139\u001b[0m, in \u001b[0;36mSYMBOLS.dist\u001b[0;34m(self, sax1, sax2, ts_length)\u001b[0m\n\u001b[1;32m    137\u001b[0m \u001b[38;5;28;01mif\u001b[39;00m \u001b[38;5;28mself\u001b[39m\u001b[38;5;241m.\u001b[39mmethod \u001b[38;5;241m==\u001b[39m \u001b[38;5;124m\"\u001b[39m\u001b[38;5;124mTSAX\u001b[39m\u001b[38;5;124m\"\u001b[39m:\n\u001b[1;32m    138\u001b[0m     dist \u001b[38;5;241m=\u001b[39m TRENDIST(\u001b[38;5;28mself\u001b[39m\u001b[38;5;241m.\u001b[39malphabet_size, ts_length, \u001b[38;5;28mself\u001b[39m\u001b[38;5;241m.\u001b[39mangle_breakpoint_alphabet_size)\n\u001b[0;32m--> 139\u001b[0m     \u001b[38;5;28;01mreturn\u001b[39;00m \u001b[43mdist\u001b[49m\u001b[38;5;241;43m.\u001b[39;49m\u001b[43mtsax_mindist\u001b[49m\u001b[43m(\u001b[49m\u001b[43msax1\u001b[49m\u001b[43m,\u001b[49m\u001b[43m \u001b[49m\u001b[43msax2\u001b[49m\u001b[43m)\u001b[49m\n\u001b[1;32m    141\u001b[0m \u001b[38;5;28;01melse\u001b[39;00m:\n\u001b[1;32m    142\u001b[0m     dist \u001b[38;5;241m=\u001b[39m MINDIST(\u001b[38;5;28mself\u001b[39m\u001b[38;5;241m.\u001b[39malphabet_size, ts_length)\n",
      "File \u001b[0;32m~/MVA_Times_Series_ML_Homeworks-1/Final_project/distances.py:168\u001b[0m, in \u001b[0;36mTRENDIST.tsax_mindist\u001b[0;34m(self, tsx1, tsx2)\u001b[0m\n\u001b[1;32m    165\u001b[0m \u001b[38;5;28;01mfor\u001b[39;00m i \u001b[38;5;129;01min\u001b[39;00m \u001b[38;5;28mrange\u001b[39m(w):\n\u001b[1;32m    166\u001b[0m     \u001b[38;5;28;01mfor\u001b[39;00m j \u001b[38;5;129;01min\u001b[39;00m \u001b[38;5;28mrange\u001b[39m(\u001b[38;5;241m1\u001b[39m, \u001b[38;5;241m4\u001b[39m):  \u001b[38;5;66;03m# Compute trend distances for each component of the trend\u001b[39;00m\n\u001b[0;32m--> 168\u001b[0m         trend_distance \u001b[38;5;241m+\u001b[39m\u001b[38;5;241m=\u001b[39m angle_lookup_table\u001b[38;5;241m.\u001b[39mloc[\u001b[43mtsx1\u001b[49m\u001b[43m[\u001b[49m\u001b[43mi\u001b[49m\u001b[43m]\u001b[49m\u001b[43m[\u001b[49m\u001b[43mj\u001b[49m\u001b[43m]\u001b[49m, tsx2[i][j]] \u001b[38;5;241m*\u001b[39m\u001b[38;5;241m*\u001b[39m \u001b[38;5;241m2\u001b[39m\n\u001b[1;32m    170\u001b[0m tsx_dist \u001b[38;5;241m=\u001b[39m np\u001b[38;5;241m.\u001b[39msqrt(compression_ratio \u001b[38;5;241m*\u001b[39m mean_distance \u001b[38;5;241m+\u001b[39m ((compression_ratio \u001b[38;5;241m/\u001b[39m w) \u001b[38;5;241m*\u001b[39m\u001b[38;5;241m*\u001b[39m \u001b[38;5;241m2\u001b[39m) \u001b[38;5;241m*\u001b[39m trend_distance)\n\u001b[1;32m    172\u001b[0m \u001b[38;5;28;01mreturn\u001b[39;00m tsx_dist\n",
      "\u001b[0;31mIndexError\u001b[0m: string index out of range"
     ]
    }
   ],
   "source": [
    "tsax._predict()"
   ]
  },
  {
   "cell_type": "code",
   "execution_count": null,
   "metadata": {},
   "outputs": [],
   "source": []
  }
 ],
 "metadata": {
  "kernelspec": {
   "display_name": "Python (nail_env)",
   "language": "python",
   "name": "nail_env"
  },
  "language_info": {
   "codemirror_mode": {
    "name": "ipython",
    "version": 3
   },
   "file_extension": ".py",
   "mimetype": "text/x-python",
   "name": "python",
   "nbconvert_exporter": "python",
   "pygments_lexer": "ipython3",
   "version": "3.9.10"
  }
 },
 "nbformat": 4,
 "nbformat_minor": 2
}
