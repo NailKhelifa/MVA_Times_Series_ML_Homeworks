{
 "cells": [
  {
   "cell_type": "code",
   "execution_count": 3,
   "metadata": {},
   "outputs": [
    {
     "name": "stdout",
     "output_type": "stream",
     "text": [
      "Importing the dtw module. When using in academic works please cite:\n",
      "  T. Giorgino. Computing and Visualizing Dynamic Time Warping Alignments in R: The dtw Package.\n",
      "  J. Stat. Soft., doi:10.18637/jss.v031.i07.\n",
      "\n"
     ]
    }
   ],
   "source": [
    "import numpy as np\n",
    "import pandas as pd \n",
    "import matplotlib.pyplot as plt \n",
    "from sklearn.model_selection import train_test_split\n",
    "from sklearn.preprocessing import LabelEncoder, StandardScaler\n",
    "from sklearn.neighbors import KNeighborsClassifier\n",
    "from sklearn.tree import DecisionTreeClassifier\n",
    "from sklearn.metrics import accuracy_score, make_scorer, f1_score\n",
    "from collections import Counter\n",
    "import scipy.stats as stats # for the breakpoints in SAX\n",
    "from scipy.stats import norm\n",
    "from Symbol import SYMBOLS\n",
    "from distances import MINDIST\n",
    "from SAX_transf import SAX_transform\n",
    "import warnings \n",
    "from dtw import dtw\n",
    "from sklearn.model_selection import GridSearchCV\n",
    "from tslearn.neighbors import KNeighborsTimeSeriesClassifier\n",
    "from tslearn.utils import to_time_series_dataset\n",
    "from sklearn.metrics import confusion_matrix\n",
    "from sklearn.metrics import precision_recall_curve, average_precision_score\n",
    "from sklearn.metrics import roc_curve, auc\n",
    "\n",
    "\n",
    "warnings.filterwarnings('ignore')\n",
    "import os\n",
    "import aeon\n",
    "from aeon.datasets import load_classification"
   ]
  },
  {
   "cell_type": "code",
   "execution_count": 4,
   "metadata": {},
   "outputs": [],
   "source": [
    "train_path = os.path.join(os.getcwd(), \"datasets/classification/ECG200/ECG200_TRAIN.ts\")\n",
    "test_path = os.path.join(os.getcwd(), \"datasets/classification/ECG200/ECG200_TEST.ts\")\n",
    "\n",
    "X_train = pd.read_csv(train_path, \n",
    "                      sep=\",\", \n",
    "                      header=None\n",
    "                      )\n",
    "\n",
    "X_train.columns = list(X_train.columns[:-1]) + ['label']\n",
    "x_train, y_train = X_train.iloc[:, :-1], X_train[\"label\"]\n",
    "\n",
    "y_train = y_train.replace(-1, 0)\n",
    "\n",
    "X_test = pd.read_csv(test_path, \n",
    "                      sep=\",\", \n",
    "                      header=None\n",
    "                      )\n",
    "\n",
    "X_test.columns = list(X_test.columns[:-1]) + ['label']\n",
    "x_test, y_test = X_test.iloc[:, :-1], X_test[\"label\"]\n",
    "\n",
    "y_test = y_test.replace(-1, 0)"
   ]
  },
  {
   "cell_type": "code",
   "execution_count": 5,
   "metadata": {},
   "outputs": [],
   "source": [
    "ts_1 = x_train.iloc[0,:] # first time series, length 96\n",
    "num_seg = 10\n",
    "alphabet_size = 5\n",
    "sax = SAX_transform(ts_1, num_seg, alphabet_size)\n"
   ]
  },
  {
   "cell_type": "code",
   "execution_count": 7,
   "metadata": {},
   "outputs": [
    {
     "data": {
      "text/plain": [
       "[[1.3363511566666668,\n",
       "  3.910320042070083,\n",
       "  -19.682626457665805,\n",
       "  3.8142034509822293],\n",
       " [-0.23096119222222222,\n",
       "  7.936819341988922,\n",
       "  0.189063253254119,\n",
       "  2.4197842537011307],\n",
       " [-0.8800282388888889,\n",
       "  8.803867186218554,\n",
       "  -4.062270737902821,\n",
       "  -0.9182103926810493],\n",
       " [-1.5219079333333334,\n",
       "  -25.93118199827385,\n",
       "  11.664236608181193,\n",
       "  0.41919709087701523],\n",
       " [-1.5853730222222222,\n",
       "  6.603912671199026,\n",
       "  -4.2224166034640405,\n",
       "  7.124885467674546],\n",
       " [-0.25865943444444445,\n",
       "  2.5924567321834218,\n",
       "  -5.7151537706823206,\n",
       "  7.995239414256104],\n",
       " [0.5679134477777779, -16.07167893840013, 6.639161121825332, 6.22738791305367],\n",
       " [0.6310565600000001,\n",
       "  -3.571906848417529,\n",
       "  6.706575698152518,\n",
       "  2.5189352415983572],\n",
       " [0.6952532066666666,\n",
       "  1.6800929885966127,\n",
       "  -1.4058630544378161,\n",
       "  1.1368862031095655],\n",
       " [0.7478132839999999,\n",
       "  -16.81803147865214,\n",
       "  12.191846738006447,\n",
       "  -1.2641244796340467]]"
      ]
     },
     "execution_count": 7,
     "metadata": {},
     "output_type": "execute_result"
    }
   ],
   "source": [
    "sax.tsax_paa(ts_1)"
   ]
  },
  {
   "cell_type": "code",
   "execution_count": 9,
   "metadata": {},
   "outputs": [
    {
     "data": {
      "text/plain": [
       "40"
      ]
     },
     "execution_count": 9,
     "metadata": {},
     "output_type": "execute_result"
    }
   ],
   "source": [
    "len(sax.calculate_tsax(10))"
   ]
  },
  {
   "cell_type": "code",
   "execution_count": null,
   "metadata": {},
   "outputs": [],
   "source": []
  }
 ],
 "metadata": {
  "kernelspec": {
   "display_name": "Python (nail_env)",
   "language": "python",
   "name": "nail_env"
  },
  "language_info": {
   "codemirror_mode": {
    "name": "ipython",
    "version": 3
   },
   "file_extension": ".py",
   "mimetype": "text/x-python",
   "name": "python",
   "nbconvert_exporter": "python",
   "pygments_lexer": "ipython3",
   "version": "3.9.10"
  }
 },
 "nbformat": 4,
 "nbformat_minor": 2
}
