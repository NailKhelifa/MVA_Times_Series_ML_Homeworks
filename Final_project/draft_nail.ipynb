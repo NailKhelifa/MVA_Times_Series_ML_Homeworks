{
 "cells": [
  {
   "cell_type": "code",
   "execution_count": null,
   "metadata": {},
   "outputs": [
    {
     "name": "stdout",
     "output_type": "stream",
     "text": [
      "Importing the dtw module. When using in academic works please cite:\n",
      "  T. Giorgino. Computing and Visualizing Dynamic Time Warping Alignments in R: The dtw Package.\n",
      "  J. Stat. Soft., doi:10.18637/jss.v031.i07.\n",
      "\n"
     ]
    }
   ],
   "source": [
    "import numpy as np\n",
    "import pandas as pd \n",
    "import matplotlib.pyplot as plt \n",
    "from sklearn.model_selection import train_test_split\n",
    "from sklearn.preprocessing import LabelEncoder, StandardScaler\n",
    "from sklearn.neighbors import KNeighborsClassifier\n",
    "from sklearn.tree import DecisionTreeClassifier\n",
    "from sklearn.metrics import accuracy_score, make_scorer, f1_score\n",
    "from collections import Counter\n",
    "import scipy.stats as stats # for the breakpoints in SAX\n",
    "from scipy.stats import norm\n",
    "from Symbol import SYMBOLS\n",
    "from distances import MINDIST\n",
    "import warnings \n",
    "from dtw import dtw\n",
    "from sklearn.model_selection import GridSearchCV\n",
    "from tslearn.neighbors import KNeighborsTimeSeriesClassifier\n",
    "from tslearn.utils import to_time_series_dataset\n",
    "from sklearn.metrics import confusion_matrix\n",
    "from sklearn.metrics import precision_recall_curve, average_precision_score\n",
    "from sklearn.metrics import roc_curve, auc\n",
    "\n",
    "\n",
    "warnings.filterwarnings('ignore')\n",
    "import os\n",
    "import aeon\n",
    "from aeon.datasets import load_classification"
   ]
  },
  {
   "cell_type": "code",
   "execution_count": null,
   "metadata": {},
   "outputs": [],
   "source": [
    "train_path = os.path.join(os.getcwd(), \"datasets/classification/ECG200/ECG200_TRAIN.ts\")\n",
    "test_path = os.path.join(os.getcwd(), \"datasets/classification/ECG200/ECG200_TEST.ts\")\n",
    "\n",
    "X_train = pd.read_csv(train_path, \n",
    "                      sep=\",\", \n",
    "                      header=None\n",
    "                      )\n",
    "\n",
    "X_train.columns = list(X_train.columns[:-1]) + ['label']\n",
    "x_train, y_train = X_train.iloc[:, :-1], X_train[\"label\"]\n",
    "\n",
    "y_train = y_train.replace(-1, 0)\n",
    "\n",
    "X_test = pd.read_csv(test_path, \n",
    "                      sep=\",\", \n",
    "                      header=None\n",
    "                      )\n",
    "\n",
    "X_test.columns = list(X_test.columns[:-1]) + ['label']\n",
    "x_test, y_test = X_test.iloc[:, :-1], X_test[\"label\"]\n",
    "\n",
    "y_test = y_test.replace(-1, 0)"
   ]
  },
  {
   "cell_type": "code",
   "execution_count": null,
   "metadata": {},
   "outputs": [],
   "source": [
    "sax_knn = SYMBOLS(X_train=X_train,\n",
    "                  X_test=X_test,\n",
    "                  k=5\n",
    "                  )\n",
    "\n",
    "sax_knn.symbolize()"
   ]
  }
 ],
 "metadata": {
  "kernelspec": {
   "display_name": "Python (nail_env)",
   "language": "python",
   "name": "nail_env"
  },
  "language_info": {
   "codemirror_mode": {
    "name": "ipython",
    "version": 3
   },
   "file_extension": ".py",
   "mimetype": "text/x-python",
   "name": "python",
   "nbconvert_exporter": "python",
   "pygments_lexer": "ipython3",
   "version": "3.9.10"
  }
 },
 "nbformat": 4,
 "nbformat_minor": 2
}
