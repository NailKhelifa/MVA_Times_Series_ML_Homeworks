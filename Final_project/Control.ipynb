{
 "cells": [
  {
   "cell_type": "markdown",
   "metadata": {},
   "source": [
    "# **Computers**"
   ]
  },
  {
   "cell_type": "code",
   "execution_count": null,
   "metadata": {},
   "outputs": [],
   "source": [
    "import numpy as np\n",
    "import pandas as pd \n",
    "import matplotlib.pyplot as plt \n",
    "from collections import Counter\n",
    "import scipy.stats as stats # for the breakpoints in SAX\n",
    "from scipy.stats import norm\n",
    "from dtw import dtw\n",
    "\n",
    "##Sklearn\n",
    "from sklearn.model_selection import train_test_split\n",
    "from sklearn.preprocessing import LabelEncoder, StandardScaler\n",
    "from sklearn.neighbors import KNeighborsClassifier\n",
    "from sklearn.tree import DecisionTreeClassifier\n",
    "from sklearn.metrics import accuracy_score, make_scorer, f1_score\n",
    "from sklearn.model_selection import GridSearchCV\n",
    "from sklearn.metrics import confusion_matrix\n",
    "from sklearn.metrics import precision_recall_curve, average_precision_score\n",
    "from sklearn.metrics import roc_curve, auc\n",
    "import seaborn as sns\n",
    "\n",
    "## TSLEARN\n",
    "from tslearn.neighbors import KNeighborsTimeSeriesClassifier\n",
    "from tslearn.utils import to_time_series_dataset\n",
    "\n",
    "## Custom\n",
    "from Symbol import SYMBOLS\n",
    "from SFA import *\n",
    "from ASTRIDE import *\n",
    "from SAX_transf import *\n",
    "from distances import MINDIST\n",
    "import utils\n",
    "import warnings \n",
    "\n",
    "## Aeon\n",
    "warnings.filterwarnings('ignore')\n",
    "import os\n",
    "import aeon\n",
    "from aeon.datasets import load_classification"
   ]
  },
  {
   "cell_type": "markdown",
   "metadata": {},
   "source": [
    "# Dataset Information\n",
    "\n",
    "**Data Source:** [Link](https://timeseriesclassification.com/description.php?Dataset=Computers)  \n",
    "**Donated By:** J. Lines, A. Bagnall  \n",
    "\n",
    "**Description:**  \n",
    "These problems were taken from data recorded as part of a government-sponsored study called *Powering the Nation*. The intention was to collect behavioral data about how consumers use electricity within the home to help reduce the UK's carbon footprint.  \n",
    "\n",
    "The data contains readings from 251 households, sampled in two-minute intervals over a month. Each series is of length 720 (representing 24 hours of readings taken every 2 minutes).  \n",
    "\n",
    "**Classes:** Desktop and Laptop\n",
    "\n",
    "# Dataset Summary\n",
    "\n",
    "| **Train Size** | **Test Size** | **Length** | **Number of Classes** | **Number of Dimensions** | **Type** |\n",
    "|-----------------|--------------|------------|------------------------|--------------------------|----------|\n",
    "| 250             | 250          | 720         | 2                      | 1                        | DEVICE      |"
   ]
  }
 ],
 "metadata": {
  "kernelspec": {
   "display_name": "Python (nail_env)",
   "language": "python",
   "name": "nail_env"
  },
  "language_info": {
   "name": "python",
   "version": "3.9.10"
  }
 },
 "nbformat": 4,
 "nbformat_minor": 2
}
